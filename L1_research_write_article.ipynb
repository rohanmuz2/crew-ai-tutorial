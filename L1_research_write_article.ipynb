{
 "cells": [
  {
   "cell_type": "markdown",
   "metadata": {},
   "source": [
    "# L1: Create Agents to Research and Write an Article\n",
    "\n",
    "In this lesson, you will be introduced to the foundational concepts of multi-agent systems and get an overview of the crewAI framework.\n",
    "Six key elements which help make Agents perform even better:\n",
    "- Role Playing\n",
    "- Focus\n",
    "- Tools\n",
    "- Cooperation\n",
    "- Guardrails\n",
    "- Memory"
   ]
  },
  {
   "cell_type": "markdown",
   "metadata": {},
   "source": [
    "The libraries are already installed in the classroom. If you're running this notebook on your own machine, you can install the following:\n",
    "```Python\n",
    "!pip install crewai crewai_tools langchain_community\n",
    "```"
   ]
  },
  {
   "cell_type": "code",
   "execution_count": 4,
   "metadata": {
    "height": 64
   },
   "outputs": [],
   "source": [
    "# Warning control\n",
    "import warnings\n",
    "warnings.filterwarnings('ignore')"
   ]
  },
  {
   "cell_type": "markdown",
   "metadata": {},
   "source": [
    "- Import from the crewAI libray."
   ]
  },
  {
   "cell_type": "code",
   "execution_count": 5,
   "metadata": {
    "height": 30
   },
   "outputs": [],
   "source": [
    "from crewai import Agent, Task, Crew"
   ]
  },
  {
   "cell_type": "markdown",
   "metadata": {},
   "source": [
    "- As a LLM for your agents, you'll be using OpenAI's `gpt-3.5-turbo`.\n",
    "\n",
    "**Optional Note:** crewAI also allow other popular models to be used as a LLM for your Agents. You can see some of the examples at the [bottom of the notebook](#1)."
   ]
  },
  {
   "cell_type": "code",
   "execution_count": 6,
   "metadata": {
    "height": 98
   },
   "outputs": [],
   "source": [
    "import os\n",
    "from dotenv import load_dotenv\n",
    "\n",
    "load_dotenv()\n",
    "\n",
    "openai_api_key = os.environ[\"OPENAI_KEY\"]\n",
    "os.environ[\"OPENAI_MODEL_NAME\"] = 'gpt-4o-mini'"
   ]
  },
  {
   "cell_type": "markdown",
   "metadata": {},
   "source": [
    "## Creating Agents\n",
    "\n",
    "- Define your Agents, and provide them a `role`, `goal` and `backstory`.\n",
    "- It has been seen that LLMs perform better when they are role playing."
   ]
  },
  {
   "cell_type": "markdown",
   "metadata": {},
   "source": [
    "### Agent: Planner\n",
    "\n",
    "**Note**: The benefit of using _multiple strings_ :\n",
    "```Python\n",
    "varname = \"line 1 of text\"\n",
    "          \"line 2 of text\"\n",
    "```\n",
    "\n",
    "versus the _triple quote docstring_:\n",
    "```Python\n",
    "varname = \"\"\"line 1 of text\n",
    "             line 2 of text\n",
    "          \"\"\"\n",
    "```\n",
    "is that it can avoid adding those whitespaces and newline characters, making it better formatted to be passed to the LLM."
   ]
  },
  {
   "cell_type": "code",
   "execution_count": 7,
   "metadata": {
    "height": 249
   },
   "outputs": [],
   "source": [
    "planner = Agent(\n",
    "    role=\"Content Planner\",\n",
    "    goal=\"Plan engaging and factually accurate content on {topic}\",\n",
    "    backstory=\"You're working on planning a blog article \"\n",
    "              \"about the topic: {topic}.\"\n",
    "              \"You collect information that helps the \"\n",
    "              \"audience learn something \"\n",
    "              \"and make informed decisions. \"\n",
    "              \"Your work is the basis for \"\n",
    "              \"the Content Writer to write an article on this topic.\",\n",
    "    allow_delegation=False,\n",
    "\tverbose=True\n",
    ")"
   ]
  },
  {
   "cell_type": "markdown",
   "metadata": {},
   "source": [
    "### Agent: Writer"
   ]
  },
  {
   "cell_type": "code",
   "execution_count": 8,
   "metadata": {
    "height": 370
   },
   "outputs": [],
   "source": [
    "writer = Agent(\n",
    "    role=\"Content Writer\",\n",
    "    goal=\"Write insightful and factually accurate \"\n",
    "         \"opinion piece about the topic: {topic}\",\n",
    "    backstory=\"You're working on a writing \"\n",
    "              \"a new opinion piece about the topic: {topic}. \"\n",
    "              \"You base your writing on the work of \"\n",
    "              \"the Content Planner, who provides an outline \"\n",
    "              \"and relevant context about the topic. \"\n",
    "              \"You follow the main objectives and \"\n",
    "              \"direction of the outline, \"\n",
    "              \"as provide by the Content Planner. \"\n",
    "              \"You also provide objective and impartial insights \"\n",
    "              \"and back them up with information \"\n",
    "              \"provide by the Content Planner. \"\n",
    "              \"You acknowledge in your opinion piece \"\n",
    "              \"when your statements are opinions \"\n",
    "              \"as opposed to objective statements.\",\n",
    "    allow_delegation=False,\n",
    "    verbose=True\n",
    ")"
   ]
  },
  {
   "cell_type": "markdown",
   "metadata": {},
   "source": [
    "### Agent: Editor"
   ]
  },
  {
   "cell_type": "code",
   "execution_count": 9,
   "metadata": {
    "height": 283
   },
   "outputs": [],
   "source": [
    "editor = Agent(\n",
    "    role=\"Editor\",\n",
    "    goal=\"Edit a given blog post to align with \"\n",
    "         \"the writing style of the organization. \",\n",
    "    backstory=\"You are an editor who receives a blog post \"\n",
    "              \"from the Content Writer. \"\n",
    "              \"Your goal is to review the blog post \"\n",
    "              \"to ensure that it follows journalistic best practices,\"\n",
    "              \"provides balanced viewpoints \"\n",
    "              \"when providing opinions or assertions, \"\n",
    "              \"and also avoids major controversial topics \"\n",
    "              \"or opinions when possible.\",\n",
    "    allow_delegation=False,\n",
    "    verbose=True\n",
    ")"
   ]
  },
  {
   "cell_type": "markdown",
   "metadata": {},
   "source": [
    "## Creating Tasks\n",
    "\n",
    "- Define your Tasks, and provide them a `description`, `expected_output` and `agent`."
   ]
  },
  {
   "cell_type": "markdown",
   "metadata": {},
   "source": [
    "### Task: Plan"
   ]
  },
  {
   "cell_type": "code",
   "execution_count": 10,
   "metadata": {
    "height": 268
   },
   "outputs": [],
   "source": [
    "plan = Task(\n",
    "    description=(\n",
    "        \"1. Prioritize the latest trends, key players, \"\n",
    "            \"and noteworthy news on {topic}.\\n\"\n",
    "        \"2. Identify the target audience, considering \"\n",
    "            \"their interests and pain points.\\n\"\n",
    "        \"3. Develop a detailed content outline including \"\n",
    "            \"an introduction, key points, and a call to action.\\n\"\n",
    "        \"4. Include SEO keywords and relevant data or sources.\"\n",
    "    ),\n",
    "    expected_output=\"A comprehensive content plan document \"\n",
    "        \"with an outline, audience analysis, \"\n",
    "        \"SEO keywords, and resources.\",\n",
    "    agent=planner,\n",
    ")"
   ]
  },
  {
   "cell_type": "markdown",
   "metadata": {},
   "source": [
    "### Task: Write"
   ]
  },
  {
   "cell_type": "code",
   "execution_count": 11,
   "metadata": {
    "height": 319
   },
   "outputs": [],
   "source": [
    "write = Task(\n",
    "    description=(\n",
    "        \"1. Use the content plan to craft a compelling \"\n",
    "            \"blog post on {topic}.\\n\"\n",
    "        \"2. Incorporate SEO keywords naturally.\\n\"\n",
    "\t\t\"3. Sections/Subtitles are properly named \"\n",
    "            \"in an engaging manner.\\n\"\n",
    "        \"4. Ensure the post is structured with an \"\n",
    "            \"engaging introduction, insightful body, \"\n",
    "            \"and a summarizing conclusion.\\n\"\n",
    "        \"5. Proofread for grammatical errors and \"\n",
    "            \"alignment with the brand's voice.\\n\"\n",
    "    ),\n",
    "    expected_output=\"A well-written blog post \"\n",
    "        \"in markdown format, ready for publication, \"\n",
    "        \"each section should have 2 or 3 paragraphs.\",\n",
    "    agent=writer,\n",
    ")"
   ]
  },
  {
   "cell_type": "markdown",
   "metadata": {},
   "source": [
    "### Task: Edit"
   ]
  },
  {
   "cell_type": "code",
   "execution_count": 12,
   "metadata": {
    "height": 166
   },
   "outputs": [],
   "source": [
    "edit = Task(\n",
    "    description=(\"Proofread the given blog post for \"\n",
    "                 \"grammatical errors and \"\n",
    "                 \"alignment with the brand's voice.\"),\n",
    "    expected_output=\"A well-written blog post in markdown format, \"\n",
    "                    \"ready for publication, \"\n",
    "                    \"each section should have 2 or 3 paragraphs.\",\n",
    "    agent=editor\n",
    ")"
   ]
  },
  {
   "cell_type": "markdown",
   "metadata": {},
   "source": [
    "## Creating the Crew\n",
    "\n",
    "- Create your crew of Agents\n",
    "- Pass the tasks to be performed by those agents.\n",
    "    - **Note**: *For this simple example*, the tasks will be performed sequentially (i.e they are dependent on each other), so the _order_ of the task in the list _matters_.\n",
    "- `verbose=2` allows you to see all the logs of the execution. "
   ]
  },
  {
   "cell_type": "code",
   "execution_count": 15,
   "metadata": {
    "height": 98
   },
   "outputs": [],
   "source": [
    "crew = Crew(\n",
    "    agents=[planner, writer, editor],\n",
    "    tasks=[plan, write, edit],\n",
    "    verbose=True\n",
    ")"
   ]
  },
  {
   "cell_type": "markdown",
   "metadata": {},
   "source": [
    "## Running the Crew"
   ]
  },
  {
   "cell_type": "markdown",
   "metadata": {},
   "source": [
    "**Note**: LLMs can provide different outputs for they same input, so what you get might be different than what you see in the video."
   ]
  },
  {
   "cell_type": "code",
   "execution_count": 16,
   "metadata": {
    "height": 30
   },
   "outputs": [
    {
     "name": "stdout",
     "output_type": "stream",
     "text": [
      "\u001b[1m\u001b[94m \n",
      "[2025-03-14 22:51:59][🚀 CREW 'CREW' STARTED, 3D7701C8-759E-4897-ACD4-BF1A3A583BCE]: 2025-03-14 22:51:59.793517\u001b[00m\n",
      "\u001b[1m\u001b[94m \n",
      "[2025-03-14 22:51:59][📋 TASK STARTED: 1. PRIORITIZE THE LATEST TRENDS, KEY PLAYERS, AND NOTEWORTHY NEWS ON ARTIFICIAL INTELLIGENCE.\n",
      "2. IDENTIFY THE TARGET AUDIENCE, CONSIDERING THEIR INTERESTS AND PAIN POINTS.\n",
      "3. DEVELOP A DETAILED CONTENT OUTLINE INCLUDING AN INTRODUCTION, KEY POINTS, AND A CALL TO ACTION.\n",
      "4. INCLUDE SEO KEYWORDS AND RELEVANT DATA OR SOURCES.]: 2025-03-14 22:51:59.805033\u001b[00m\n",
      "\u001b[1m\u001b[94m \n",
      "[2025-03-14 22:51:59][🤖 AGENT 'CONTENT PLANNER' STARTED TASK]: 2025-03-14 22:51:59.806033\u001b[00m\n",
      "\u001b[1m\u001b[95m# Agent:\u001b[00m \u001b[1m\u001b[92mContent Planner\u001b[00m\n",
      "\u001b[95m## Task:\u001b[00m \u001b[92m1. Prioritize the latest trends, key players, and noteworthy news on Artificial Intelligence.\n",
      "2. Identify the target audience, considering their interests and pain points.\n",
      "3. Develop a detailed content outline including an introduction, key points, and a call to action.\n",
      "4. Include SEO keywords and relevant data or sources.\u001b[00m\n",
      "\u001b[1m\u001b[94m \n",
      "[2025-03-14 22:51:59][🤖 LLM CALL STARTED]: 2025-03-14 22:51:59.807034\u001b[00m\n",
      "\u001b[1m\u001b[94m \n",
      "[2025-03-14 22:52:11][✅ LLM CALL COMPLETED]: 2025-03-14 22:52:11.708715\u001b[00m\n",
      "\n",
      "\n",
      "\u001b[1m\u001b[95m# Agent:\u001b[00m \u001b[1m\u001b[92mContent Planner\u001b[00m\n",
      "\u001b[95m## Final Answer:\u001b[00m \u001b[92m\n",
      "**Comprehensive Content Plan Document on Artificial Intelligence**\n",
      "\n",
      "---\n",
      "\n",
      "**1. Latest Trends in Artificial Intelligence:**\n",
      "\n",
      "- **Generative AI**: The rise of AI models like GPT-4, Midjourney, and DALL-E that create text, images, and music, showcasing creativity and innovation.\n",
      "- **AI in Healthcare**: Growth in using AI for diagnostics, treatment plans, and personalized medicine.\n",
      "- **AI Ethics and Regulation**: Major discussions surrounding ethical AI use, data privacy, bias in AI algorithms, and potential regulations from governing bodies.\n",
      "- **AI in Automation**: Increasing integration of AI in automating routine tasks in sectors like manufacturing, finance, and retail.\n",
      "- **Natural Language Processing (NLP)**: Advancements in NLP technologies improving communication between humans and machines.\n",
      "\n",
      "**2. Key Players in Artificial Intelligence:**\n",
      "\n",
      "- **Tech Giants**: Google (DeepMind), Microsoft (Azure AI), OpenAI, and IBM (Watson).\n",
      "- **Startups**: Companies like Hugging Face, Databricks, and UiPath that focus on specific AI tools and applications.\n",
      "- **Research Institutions**: Stanford, MIT, and Carnegie Mellon University pushing the boundaries of AI research and development.\n",
      "\n",
      "**3. Noteworthy News:**\n",
      "\n",
      "- OpenAI's recent deployment of ChatGPT and its impact on industries from customer service to education.\n",
      "- Google’s introduction of generative AI features in Google Workspace (Docs, Sheets).\n",
      "- Legislative announcements regarding AI regulation in the European Union and its implications for global tech companies.\n",
      "  \n",
      "---\n",
      "\n",
      "**4. Target Audience:**\n",
      "\n",
      "- **Tech Professionals**: Interested in the latest AI developments, applications, and programming.\n",
      "- **Business Leaders**: Looking to integrate AI into their strategies for operational efficiency and competitiveness.\n",
      "- **Academic and Research Community**: Involved in AI research, seeking the latest trends and data.\n",
      "- **General Public**: Curious about how AI affects their daily life and the potential benefits and risks.\n",
      "\n",
      "**Audience Pain Points:**\n",
      "\n",
      "- Understanding the complexities and applications of AI in everyday business.\n",
      "- Addressing ethical concerns and data privacy issues related to AI use.\n",
      "- Navigating the fast-paced advancements in AI technologies and trends.\n",
      "\n",
      "---\n",
      "\n",
      "**5. Content Outline:**\n",
      "\n",
      "**Title**: \"Unlocking the Future: How Artificial Intelligence is Shaping Our World\"\n",
      "\n",
      "**Introduction**:  \n",
      "- Brief overview of what AI is and its rapid growth.\n",
      "- Importance of understanding AI as it becomes an integral part of various sectors.\n",
      "  \n",
      "**Key Points**:  \n",
      "1. **What is Artificial Intelligence?**  \n",
      "   - Definition and brief history of AI.\n",
      "  \n",
      "2. **Latest Trends in AI**  \n",
      "   - Focus on generative AI, healthcare applications, and automation.\n",
      "  \n",
      "3. **Key Players in the AI Space**  \n",
      "   - Highlight tech giants, promising startups, and academic contributions.\n",
      "  \n",
      "4. **AI Ethical Considerations**  \n",
      "   - Discuss the growing emphasis on AI ethics, data privacy, and regulations.\n",
      "  \n",
      "5. **Real-World Applications of AI**  \n",
      "   - Case studies in different industries — healthcare, finance, retail, and entertainment.\n",
      "  \n",
      "6. **Future Perspectives**  \n",
      "   - Predictions on the future of AI and likely developments.\n",
      "\n",
      "**Conclusion**:  \n",
      "- Recap of the key points and implications for various stakeholders.\n",
      "- Encourage readers to stay informed and partake in discussions surrounding AI advancements.\n",
      "\n",
      "**Call to Action**:  \n",
      "- Invite readers to subscribe to updates, share their thoughts, and engage with relevant AI-focused communities online.\n",
      "\n",
      "---\n",
      "\n",
      "**6. SEO Keywords**:  \n",
      "- Artificial Intelligence  \n",
      "- AI trends 2023  \n",
      "- Generative AI applications  \n",
      "- AI ethics and regulations  \n",
      "- Future of AI technology  \n",
      "- AI tools for business  \n",
      "- AI in healthcare\n",
      "\n",
      "**7. Relevant Data and Sources**:\n",
      "\n",
      "- Reports from McKinsey, Gartner, and PwC on AI trends and predictions.\n",
      "- Academic articles from JSTOR and IEEE Xplore discussing the advancements in AI.\n",
      "- News coverage from reputable sources like TechCrunch, Wired, and MIT Technology Review.\n",
      "- Data from AI research initiatives, such as Stanford's AI Index report.\n",
      "\n",
      "---\n",
      "\n",
      "This detailed content plan serves as a foundation for an engaging and informative article on Artificial Intelligence that attracts a diverse readership while providing crucial insights into the state of AI technology, its advancements, and its implications.\u001b[00m\n",
      "\n",
      "\n",
      "\u001b[1m\u001b[94m \n",
      "[2025-03-14 22:52:11][✅ AGENT 'CONTENT PLANNER' COMPLETED TASK]: 2025-03-14 22:52:11.711714\u001b[00m\n",
      "\u001b[1m\u001b[94m \n",
      "[2025-03-14 22:52:11][✅ TASK COMPLETED: 1. PRIORITIZE THE LATEST TRENDS, KEY PLAYERS, AND NOTEWORTHY NEWS ON ARTIFICIAL INTELLIGENCE.\n",
      "2. IDENTIFY THE TARGET AUDIENCE, CONSIDERING THEIR INTERESTS AND PAIN POINTS.\n",
      "3. DEVELOP A DETAILED CONTENT OUTLINE INCLUDING AN INTRODUCTION, KEY POINTS, AND A CALL TO ACTION.\n",
      "4. INCLUDE SEO KEYWORDS AND RELEVANT DATA OR SOURCES.]: 2025-03-14 22:52:11.711714\u001b[00m\n",
      "\u001b[1m\u001b[94m \n",
      "[2025-03-14 22:52:11][📋 TASK STARTED: 1. USE THE CONTENT PLAN TO CRAFT A COMPELLING BLOG POST ON ARTIFICIAL INTELLIGENCE.\n",
      "2. INCORPORATE SEO KEYWORDS NATURALLY.\n",
      "3. SECTIONS/SUBTITLES ARE PROPERLY NAMED IN AN ENGAGING MANNER.\n",
      "4. ENSURE THE POST IS STRUCTURED WITH AN ENGAGING INTRODUCTION, INSIGHTFUL BODY, AND A SUMMARIZING CONCLUSION.\n",
      "5. PROOFREAD FOR GRAMMATICAL ERRORS AND ALIGNMENT WITH THE BRAND'S VOICE.\n",
      "]: 2025-03-14 22:52:11.715713\u001b[00m\n",
      "\u001b[1m\u001b[94m \n",
      "[2025-03-14 22:52:11][🤖 AGENT 'CONTENT WRITER' STARTED TASK]: 2025-03-14 22:52:11.717611\u001b[00m\n",
      "\u001b[1m\u001b[95m# Agent:\u001b[00m \u001b[1m\u001b[92mContent Writer\u001b[00m\n",
      "\u001b[95m## Task:\u001b[00m \u001b[92m1. Use the content plan to craft a compelling blog post on Artificial Intelligence.\n",
      "2. Incorporate SEO keywords naturally.\n",
      "3. Sections/Subtitles are properly named in an engaging manner.\n",
      "4. Ensure the post is structured with an engaging introduction, insightful body, and a summarizing conclusion.\n",
      "5. Proofread for grammatical errors and alignment with the brand's voice.\n",
      "\u001b[00m\n",
      "\u001b[1m\u001b[94m \n",
      "[2025-03-14 22:52:11][🤖 LLM CALL STARTED]: 2025-03-14 22:52:11.717611\u001b[00m\n",
      "\u001b[1m\u001b[94m \n",
      "[2025-03-14 22:52:20][✅ LLM CALL COMPLETED]: 2025-03-14 22:52:20.158416\u001b[00m\n",
      "\n",
      "\n",
      "\u001b[1m\u001b[95m# Agent:\u001b[00m \u001b[1m\u001b[92mContent Writer\u001b[00m\n",
      "\u001b[95m## Final Answer:\u001b[00m \u001b[92m\n",
      "```markdown\n",
      "# Unlocking the Future: How Artificial Intelligence is Shaping Our World\n",
      "\n",
      "## Introduction\n",
      "Artificial Intelligence (AI) is no longer a concept confined to science fiction; it has rapidly transformed into a multifaceted realm influencing numerous sectors. As AI technologies evolve, understanding their implications becomes vital for individuals and organizations alike. With advancements occurring at a breakneck pace, the importance of staying informed about the latest trends in AI cannot be overstated.\n",
      "\n",
      "In this blog post, we will delve into the most significant developments in AI, explore the key players who are driving innovation, and discuss the ethical considerations that accompany these advancements. Join us on this journey as we uncover how artificial intelligence is shaping our world today and in the future.\n",
      "\n",
      "## What is Artificial Intelligence?\n",
      "Artificial Intelligence encompasses a wide variety of technologies designed to simulate human intelligence. From machine learning algorithms that learn from data to natural language processing (NLP) systems that facilitate human-machine communication, AI represents an array of processes that can mimic cognitive functions. The field has its roots in the 1950s, with early concepts set forth by pioneers like Alan Turing and John McCarthy.\n",
      "\n",
      "Over the years, AI has evolved dramatically, now encompassing deep learning, computer vision, and robotics. Its application has expanded well beyond academia, now permeating industries, businesses, and even daily life, thus reshaping how we interact with technology.\n",
      "\n",
      "## Latest Trends in AI\n",
      "### Generative AI\n",
      "One of the most exciting trends in artificial intelligence is generative AI, exemplified by models like GPT-4, Midjourney, and DALL-E. These AI systems possess the unique ability to create original content, including text, images, and music. As such, they illustrate the innovative capabilities of AI, pushing the boundaries of creativity and creativity's intersection with technology.\n",
      "\n",
      "### AI in Healthcare\n",
      "Another vital area is AI's integration into healthcare, where it is revolutionizing diagnostics and personalized medicine. Algorithms powered by AI can analyze medical data faster and more accurately than human professionals, helping healthcare providers design treatment plans tailored to individual patients. The potential benefits range from improved patient care to enhanced operational efficiency, underscoring AI's critical role in this essential sector.\n",
      "\n",
      "## Key Players in the AI Space\n",
      "### Tech Giants Leading the Charge\n",
      "Among the leaders in the AI landscape are tech giants like Google, Microsoft, OpenAI, and IBM, each contributing to transformative AI developments. Google’s DeepMind has set new benchmarks in machine learning, while OpenAI has made waves with its user-friendly technologies that assist in various applications. These innovations from established companies foster advancements that have widespread implications across numerous fields.\n",
      "\n",
      "### Innovative Startups and Research Institutions\n",
      "In addition to established names, a host of innovative startups such as Hugging Face and UiPath are making noteworthy strides in AI applications tailored for businesses. Coupled with research institutions like Stanford and MIT, which continuously push the boundaries of AI exploration, this dynamic environment signifies vast potential for breakthroughs and contributions that will influence future technology directions.\n",
      "\n",
      "## AI Ethical Considerations\n",
      "As AI increasingly influences various sectors, discussions on ethics, data privacy, and algorithmic bias have come to the forefront. Major stakeholders recognize the significance of developing ethical frameworks that protect individuals and ensure fairness within AI systems. The conversation surrounding AI regulations, notably in the European Union, indicates a critical shift toward accountability and responsible AI implementation.\n",
      "\n",
      "Respecting user privacy and addressing bias in data sets are paramount for organizations aiming to build trust with their customers. As AI evolves, striking a balance between innovation and ethics will be crucial for success.\n",
      "\n",
      "## Real-World Applications of AI\n",
      "AI's impact transcends theoretical discussions and spills into tangible outcomes across sectors. In healthcare, AI tools are being used for predictive analytics, improving patient outcomes with proactive solutions. In finance, AI systems like credit scoring algorithms enable more accurate risk assessments, while retail industries utilize AI for personalized shopping experiences.\n",
      "\n",
      "Entertainment also benefits from AI advancements, as algorithms curate content based on user preferences and viewing habits. The diversity of applications illustrates the far-reaching implications of AI in enhancing efficiency and transforming user experiences across multiple domains.\n",
      "\n",
      "## Future Perspectives\n",
      "Looking ahead, the future of artificial intelligence is laden with possibilities. As technologies evolve, we can expect to see advancements in areas such as emotion recognition and advanced reasoning systems. The potential integration of AI into fields like autonomous driving and smart city innovations represents just the tip of the iceberg.\n",
      "\n",
      "However, just as innovation offers boundless opportunities, it also presents challenges that must be navigated thoughtfully. Ensuring that AI developments align with societal values and ethical standards will be imperative for fostering positive outcomes.\n",
      "\n",
      "## Conclusion\n",
      "The journey to understand artificial intelligence is ongoing, with each development revealing new possibilities and challenges. From generative AI innovations to ethical discussions and real-world applications, the landscape of AI is ever-evolving. As stakeholders from various domains navigate this intricate environment, staying informed about AI advancements is crucial.\n",
      "\n",
      "By engaging in dialogue surrounding AI's growth and advocating for responsible practices, we can collectively ensure that its influence leads to positive societal change. I encourage readers to subscribe for updates, share their thoughts, and actively participate in discussions about AI and its profound implications for our world.\n",
      "\n",
      "---\n",
      "```\n",
      "\n",
      "This blog post is structured to engage readers while providing informative insights into artificial intelligence, emphasizing the key points outlined in the content plan and incorporating relevant SEO keywords seamlessly.\u001b[00m\n",
      "\n",
      "\n",
      "\u001b[1m\u001b[94m \n",
      "[2025-03-14 22:52:20][✅ AGENT 'CONTENT WRITER' COMPLETED TASK]: 2025-03-14 22:52:20.159415\u001b[00m\n",
      "\u001b[1m\u001b[94m \n",
      "[2025-03-14 22:52:20][✅ TASK COMPLETED: 1. USE THE CONTENT PLAN TO CRAFT A COMPELLING BLOG POST ON ARTIFICIAL INTELLIGENCE.\n",
      "2. INCORPORATE SEO KEYWORDS NATURALLY.\n",
      "3. SECTIONS/SUBTITLES ARE PROPERLY NAMED IN AN ENGAGING MANNER.\n",
      "4. ENSURE THE POST IS STRUCTURED WITH AN ENGAGING INTRODUCTION, INSIGHTFUL BODY, AND A SUMMARIZING CONCLUSION.\n",
      "5. PROOFREAD FOR GRAMMATICAL ERRORS AND ALIGNMENT WITH THE BRAND'S VOICE.\n",
      "]: 2025-03-14 22:52:20.159415\u001b[00m\n",
      "\u001b[1m\u001b[94m \n",
      "[2025-03-14 22:52:20][📋 TASK STARTED: PROOFREAD THE GIVEN BLOG POST FOR GRAMMATICAL ERRORS AND ALIGNMENT WITH THE BRAND'S VOICE.]: 2025-03-14 22:52:20.164415\u001b[00m\n",
      "\u001b[1m\u001b[94m \n",
      "[2025-03-14 22:52:20][🤖 AGENT 'EDITOR' STARTED TASK]: 2025-03-14 22:52:20.166417\u001b[00m\n",
      "\u001b[1m\u001b[95m# Agent:\u001b[00m \u001b[1m\u001b[92mEditor\u001b[00m\n",
      "\u001b[95m## Task:\u001b[00m \u001b[92mProofread the given blog post for grammatical errors and alignment with the brand's voice.\u001b[00m\n",
      "\u001b[1m\u001b[94m \n",
      "[2025-03-14 22:52:20][🤖 LLM CALL STARTED]: 2025-03-14 22:52:20.166417\u001b[00m\n",
      "\u001b[1m\u001b[94m \n",
      "[2025-03-14 22:52:31][✅ LLM CALL COMPLETED]: 2025-03-14 22:52:31.232680\u001b[00m\n",
      "\n",
      "\n",
      "\u001b[1m\u001b[95m# Agent:\u001b[00m \u001b[1m\u001b[92mEditor\u001b[00m\n",
      "\u001b[95m## Final Answer:\u001b[00m \u001b[92m\n",
      "```markdown\n",
      "# Unlocking the Future: How Artificial Intelligence is Shaping Our World\n",
      "\n",
      "## Introduction\n",
      "Artificial Intelligence (AI) is no longer a concept confined to science fiction; it has rapidly transformed into a multifaceted realm influencing numerous sectors. As AI technologies evolve, understanding their implications becomes vital for individuals and organizations alike. With advancements occurring at a breakneck pace, the importance of staying informed about the latest trends in AI cannot be overstated.\n",
      "\n",
      "In this blog post, we will delve into the most significant developments in AI, explore the key players who are driving innovation, and discuss the ethical considerations that accompany these advancements. Join us on this journey as we uncover how artificial intelligence is shaping our world today and in the future.\n",
      "\n",
      "## What is Artificial Intelligence?\n",
      "Artificial Intelligence encompasses a wide variety of technologies designed to simulate human intelligence. From machine learning algorithms that learn from data to natural language processing (NLP) systems that facilitate human-machine communication, AI represents an array of processes that can mimic cognitive functions. The field has its roots in the 1950s, with early concepts set forth by pioneers like Alan Turing and John McCarthy.\n",
      "\n",
      "Over the years, AI has evolved dramatically, now encompassing deep learning, computer vision, and robotics. Its application has expanded well beyond academia, now permeating industries, businesses, and even daily life, thus reshaping how we interact with technology.\n",
      "\n",
      "## Latest Trends in AI\n",
      "### Generative AI\n",
      "One of the most exciting trends in artificial intelligence is generative AI, exemplified by models like GPT-4, Midjourney, and DALL-E. These AI systems possess the unique ability to create original content, including text, images, and music. As such, they illustrate the innovative capabilities of AI, pushing the boundaries of creativity and innovation.\n",
      "\n",
      "### AI in Healthcare\n",
      "Another vital area is AI's integration into healthcare, where it is revolutionizing diagnostics and personalized medicine. Algorithms powered by AI can analyze medical data faster and more accurately than human professionals, helping healthcare providers design treatment plans tailored to individual patients. The potential benefits range from improved patient care to enhanced operational efficiency, underscoring AI's critical role in this essential sector.\n",
      "\n",
      "## Key Players in the AI Space\n",
      "### Tech Giants Leading the Charge\n",
      "Among the leaders in the AI landscape are tech giants like Google, Microsoft, OpenAI, and IBM, each contributing to transformative AI developments. Google’s DeepMind has set new benchmarks in machine learning, while OpenAI has made waves with its user-friendly technologies that assist in various applications. These innovations from established companies foster advancements that have widespread implications across numerous fields.\n",
      "\n",
      "### Innovative Startups and Research Institutions\n",
      "In addition to established names, a host of innovative startups such as Hugging Face and UiPath are making noteworthy strides in AI applications tailored for businesses. Coupled with research institutions like Stanford and MIT, which continuously push the boundaries of AI exploration, this dynamic environment signifies vast potential for breakthroughs and contributions that will influence future technology directions.\n",
      "\n",
      "## AI Ethical Considerations\n",
      "As AI increasingly influences various sectors, discussions on ethics, data privacy, and algorithmic bias have come to the forefront. Major stakeholders recognize the significance of developing ethical frameworks that protect individuals and ensure fairness within AI systems. The conversation surrounding AI regulations, notably in the European Union, indicates a critical shift toward accountability and responsible AI implementation.\n",
      "\n",
      "Respecting user privacy and addressing bias in data sets are paramount for organizations aiming to build trust with their customers. As AI evolves, striking a balance between innovation and ethics will be crucial for success.\n",
      "\n",
      "## Real-World Applications of AI\n",
      "AI's impact transcends theoretical discussions and spills into tangible outcomes across sectors. In healthcare, AI tools are being used for predictive analytics, improving patient outcomes with proactive solutions. In finance, AI systems like credit scoring algorithms enable more accurate risk assessments, while retail industries utilize AI for personalized shopping experiences.\n",
      "\n",
      "Entertainment also benefits from AI advancements, as algorithms curate content based on user preferences and viewing habits. The diversity of applications illustrates the far-reaching implications of AI in enhancing efficiency and transforming user experiences across multiple domains.\n",
      "\n",
      "## Future Perspectives\n",
      "Looking ahead, the future of artificial intelligence is laden with possibilities. As technologies evolve, we can expect to see advancements in areas such as emotion recognition and advanced reasoning systems. The potential integration of AI into fields like autonomous driving and smart city innovations represents just the tip of the iceberg.\n",
      "\n",
      "However, just as innovation offers boundless opportunities, it also presents challenges that must be navigated thoughtfully. Ensuring that AI developments align with societal values and ethical standards will be imperative for fostering positive outcomes.\n",
      "\n",
      "## Conclusion\n",
      "The journey to understand artificial intelligence is ongoing, with each development revealing new possibilities and challenges. From generative AI innovations to ethical discussions and real-world applications, the landscape of AI is ever-evolving. As stakeholders from various domains navigate this intricate environment, staying informed about AI advancements is crucial.\n",
      "\n",
      "By engaging in dialogue surrounding AI's growth and advocating for responsible practices, we can collectively ensure that its influence leads to positive societal change. I encourage readers to subscribe for updates, share their thoughts, and actively participate in discussions about AI and its profound implications for our world.\n",
      "\n",
      "---\n",
      "```\n",
      "\n",
      "This blog post is structured to engage readers while providing informative insights into artificial intelligence, emphasizing the key points outlined in the content plan and incorporating relevant SEO keywords seamlessly.\u001b[00m\n",
      "\n",
      "\n",
      "\u001b[1m\u001b[94m \n",
      "[2025-03-14 22:52:31][✅ AGENT 'EDITOR' COMPLETED TASK]: 2025-03-14 22:52:31.233680\u001b[00m\n",
      "\u001b[1m\u001b[94m \n",
      "[2025-03-14 22:52:31][✅ TASK COMPLETED: PROOFREAD THE GIVEN BLOG POST FOR GRAMMATICAL ERRORS AND ALIGNMENT WITH THE BRAND'S VOICE.]: 2025-03-14 22:52:31.233680\u001b[00m\n",
      "\u001b[1m\u001b[94m \n",
      "[2025-03-14 22:52:31][✅ CREW 'CREW' COMPLETED, 3D7701C8-759E-4897-ACD4-BF1A3A583BCE]: 2025-03-14 22:52:31.238681\u001b[00m\n"
     ]
    }
   ],
   "source": [
    "result = crew.kickoff(inputs={\"topic\": \"Artificial Intelligence\"})"
   ]
  },
  {
   "cell_type": "markdown",
   "metadata": {},
   "source": [
    "- Display the results of your execution as markdown in the notebook."
   ]
  },
  {
   "cell_type": "code",
   "execution_count": 19,
   "metadata": {
    "height": 47
   },
   "outputs": [
    {
     "data": {
      "text/markdown": [
       "```markdown\n",
       "# Unlocking the Future: How Artificial Intelligence is Shaping Our World\n",
       "\n",
       "## Introduction\n",
       "Artificial Intelligence (AI) is no longer a concept confined to science fiction; it has rapidly transformed into a multifaceted realm influencing numerous sectors. As AI technologies evolve, understanding their implications becomes vital for individuals and organizations alike. With advancements occurring at a breakneck pace, the importance of staying informed about the latest trends in AI cannot be overstated.\n",
       "\n",
       "In this blog post, we will delve into the most significant developments in AI, explore the key players who are driving innovation, and discuss the ethical considerations that accompany these advancements. Join us on this journey as we uncover how artificial intelligence is shaping our world today and in the future.\n",
       "\n",
       "## What is Artificial Intelligence?\n",
       "Artificial Intelligence encompasses a wide variety of technologies designed to simulate human intelligence. From machine learning algorithms that learn from data to natural language processing (NLP) systems that facilitate human-machine communication, AI represents an array of processes that can mimic cognitive functions. The field has its roots in the 1950s, with early concepts set forth by pioneers like Alan Turing and John McCarthy.\n",
       "\n",
       "Over the years, AI has evolved dramatically, now encompassing deep learning, computer vision, and robotics. Its application has expanded well beyond academia, now permeating industries, businesses, and even daily life, thus reshaping how we interact with technology.\n",
       "\n",
       "## Latest Trends in AI\n",
       "### Generative AI\n",
       "One of the most exciting trends in artificial intelligence is generative AI, exemplified by models like GPT-4, Midjourney, and DALL-E. These AI systems possess the unique ability to create original content, including text, images, and music. As such, they illustrate the innovative capabilities of AI, pushing the boundaries of creativity and innovation.\n",
       "\n",
       "### AI in Healthcare\n",
       "Another vital area is AI's integration into healthcare, where it is revolutionizing diagnostics and personalized medicine. Algorithms powered by AI can analyze medical data faster and more accurately than human professionals, helping healthcare providers design treatment plans tailored to individual patients. The potential benefits range from improved patient care to enhanced operational efficiency, underscoring AI's critical role in this essential sector.\n",
       "\n",
       "## Key Players in the AI Space\n",
       "### Tech Giants Leading the Charge\n",
       "Among the leaders in the AI landscape are tech giants like Google, Microsoft, OpenAI, and IBM, each contributing to transformative AI developments. Google’s DeepMind has set new benchmarks in machine learning, while OpenAI has made waves with its user-friendly technologies that assist in various applications. These innovations from established companies foster advancements that have widespread implications across numerous fields.\n",
       "\n",
       "### Innovative Startups and Research Institutions\n",
       "In addition to established names, a host of innovative startups such as Hugging Face and UiPath are making noteworthy strides in AI applications tailored for businesses. Coupled with research institutions like Stanford and MIT, which continuously push the boundaries of AI exploration, this dynamic environment signifies vast potential for breakthroughs and contributions that will influence future technology directions.\n",
       "\n",
       "## AI Ethical Considerations\n",
       "As AI increasingly influences various sectors, discussions on ethics, data privacy, and algorithmic bias have come to the forefront. Major stakeholders recognize the significance of developing ethical frameworks that protect individuals and ensure fairness within AI systems. The conversation surrounding AI regulations, notably in the European Union, indicates a critical shift toward accountability and responsible AI implementation.\n",
       "\n",
       "Respecting user privacy and addressing bias in data sets are paramount for organizations aiming to build trust with their customers. As AI evolves, striking a balance between innovation and ethics will be crucial for success.\n",
       "\n",
       "## Real-World Applications of AI\n",
       "AI's impact transcends theoretical discussions and spills into tangible outcomes across sectors. In healthcare, AI tools are being used for predictive analytics, improving patient outcomes with proactive solutions. In finance, AI systems like credit scoring algorithms enable more accurate risk assessments, while retail industries utilize AI for personalized shopping experiences.\n",
       "\n",
       "Entertainment also benefits from AI advancements, as algorithms curate content based on user preferences and viewing habits. The diversity of applications illustrates the far-reaching implications of AI in enhancing efficiency and transforming user experiences across multiple domains.\n",
       "\n",
       "## Future Perspectives\n",
       "Looking ahead, the future of artificial intelligence is laden with possibilities. As technologies evolve, we can expect to see advancements in areas such as emotion recognition and advanced reasoning systems. The potential integration of AI into fields like autonomous driving and smart city innovations represents just the tip of the iceberg.\n",
       "\n",
       "However, just as innovation offers boundless opportunities, it also presents challenges that must be navigated thoughtfully. Ensuring that AI developments align with societal values and ethical standards will be imperative for fostering positive outcomes.\n",
       "\n",
       "## Conclusion\n",
       "The journey to understand artificial intelligence is ongoing, with each development revealing new possibilities and challenges. From generative AI innovations to ethical discussions and real-world applications, the landscape of AI is ever-evolving. As stakeholders from various domains navigate this intricate environment, staying informed about AI advancements is crucial.\n",
       "\n",
       "By engaging in dialogue surrounding AI's growth and advocating for responsible practices, we can collectively ensure that its influence leads to positive societal change. I encourage readers to subscribe for updates, share their thoughts, and actively participate in discussions about AI and its profound implications for our world.\n",
       "\n",
       "---\n",
       "```\n",
       "\n",
       "This blog post is structured to engage readers while providing informative insights into artificial intelligence, emphasizing the key points outlined in the content plan and incorporating relevant SEO keywords seamlessly."
      ],
      "text/plain": [
       "<IPython.core.display.Markdown object>"
      ]
     },
     "execution_count": 19,
     "metadata": {},
     "output_type": "execute_result"
    }
   ],
   "source": [
    "from IPython.display import Markdown\n",
    "\n",
    "# Assuming `result` is an instance of `CrewOutput`\n",
    "Markdown(result.raw)"
   ]
  },
  {
   "cell_type": "markdown",
   "metadata": {},
   "source": [
    "<a name='1'></a>\n",
    " ## Other Popular Models as LLM for your Agents"
   ]
  },
  {
   "cell_type": "markdown",
   "metadata": {},
   "source": [
    "#### Hugging Face (HuggingFaceHub endpoint)\n",
    "\n",
    "```Python\n",
    "from langchain_community.llms import HuggingFaceHub\n",
    "\n",
    "llm = HuggingFaceHub(\n",
    "    repo_id=\"HuggingFaceH4/zephyr-7b-beta\",\n",
    "    huggingfacehub_api_token=\"<HF_TOKEN_HERE>\",\n",
    "    task=\"text-generation\",\n",
    ")\n",
    "\n",
    "### you will pass \"llm\" to your agent function\n",
    "```"
   ]
  },
  {
   "cell_type": "markdown",
   "metadata": {},
   "source": [
    "#### Mistral API\n",
    "\n",
    "```Python\n",
    "OPENAI_API_KEY=your-mistral-api-key\n",
    "OPENAI_API_BASE=https://api.mistral.ai/v1\n",
    "OPENAI_MODEL_NAME=\"mistral-small\"\n",
    "```"
   ]
  },
  {
   "cell_type": "markdown",
   "metadata": {},
   "source": [
    "#### Cohere\n",
    "\n",
    "```Python\n",
    "from langchain_community.chat_models import ChatCohere\n",
    "# Initialize language model\n",
    "os.environ[\"COHERE_API_KEY\"] = \"your-cohere-api-key\"\n",
    "llm = ChatCohere()\n",
    "\n",
    "### you will pass \"llm\" to your agent function\n",
    "```"
   ]
  },
  {
   "cell_type": "markdown",
   "metadata": {},
   "source": [
    "### For using Llama locally with Ollama and more, checkout the crewAI documentation on [Connecting to any LLM](https://docs.crewai.com/how-to/LLM-Connections/)."
   ]
  },
  {
   "cell_type": "code",
   "execution_count": null,
   "metadata": {
    "height": 30
   },
   "outputs": [],
   "source": []
  },
  {
   "cell_type": "code",
   "execution_count": null,
   "metadata": {
    "height": 30
   },
   "outputs": [],
   "source": []
  },
  {
   "cell_type": "code",
   "execution_count": null,
   "metadata": {
    "height": 30
   },
   "outputs": [],
   "source": []
  }
 ],
 "metadata": {
  "colab": {
   "gpuType": "T4",
   "provenance": []
  },
  "kernelspec": {
   "display_name": "venv",
   "language": "python",
   "name": "python3"
  },
  "language_info": {
   "codemirror_mode": {
    "name": "ipython",
    "version": 3
   },
   "file_extension": ".py",
   "mimetype": "text/x-python",
   "name": "python",
   "nbconvert_exporter": "python",
   "pygments_lexer": "ipython3",
   "version": "3.11.4"
  }
 },
 "nbformat": 4,
 "nbformat_minor": 4
}
